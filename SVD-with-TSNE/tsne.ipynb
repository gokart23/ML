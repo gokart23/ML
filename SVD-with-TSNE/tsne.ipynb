{
 "cells": [
  {
   "cell_type": "code",
   "execution_count": 1,
   "metadata": {
    "collapsed": false
   },
   "outputs": [],
   "source": [
    "import cPickle\n",
    "import numpy as np\n",
    "import matplotlib.pyplot as plt\n",
    "from sklearn.manifold import TSNE"
   ]
  },
  {
   "cell_type": "code",
   "execution_count": 2,
   "metadata": {
    "collapsed": true
   },
   "outputs": [],
   "source": [
    "def generateSortedVocab():\n",
    "    with open(\"vocab.txt\", \"r\") as f:\n",
    "        contents = [ x.strip() for x in f.readlines() ]\n",
    "        contents = sorted(contents)\n",
    "        with open(\"sorted_vocab.txt\", \"a+\") as op:\n",
    "            op.write( \"\\n\".join(contents) )        "
   ]
  },
  {
   "cell_type": "code",
   "execution_count": 3,
   "metadata": {
    "collapsed": true
   },
   "outputs": [],
   "source": [
    "def tsnePlotPkl(mappingPkl, wordFile, color='red', flag = 0, legend=None):\n",
    "    with open(mappingPkl, \"r\") as f:\n",
    "        wvMap = cPickle.load(f)\n",
    "\n",
    "    with open(wordFile, \"r\") as f:\n",
    "        selectedWords = [ x.strip() for x in f.readlines() ]\n",
    "        if selectedWords[-1] == '':\n",
    "            del selectedWords[-1]\n",
    "    wordVecMat, wordVocab = np.array([ wvMap[x] for x in selectedWords ]), np.array(selectedWords)\n",
    "    if flag != 0:\n",
    "        return wordVecMat, wordVocab\n",
    "    plotTSNEProjection(wordVecMat, wordVocab, color, legend)"
   ]
  },
  {
   "cell_type": "code",
   "execution_count": 4,
   "metadata": {
    "collapsed": true
   },
   "outputs": [],
   "source": [
    "def tsnePlotDualPkl(embeddingPkl, mappingPkl, wordFile, color='red', flag=0, legend=None):\n",
    "    with open(embeddingPkl, \"r\") as f:\n",
    "        wVecMat = cPickle.load(f)\n",
    "    with open(mappingPkl, \"r\") as f:\n",
    "        wordVocab = (cPickle.load(f))\n",
    "        revDict = dict( zip( wordVocab, range(len(wordVocab)) ) )\n",
    "    \n",
    "    with open(wordFile, \"r\") as f:\n",
    "        selectedWords = [ x.strip() for x in f.readlines() ]\n",
    "        if selectedWords[-1] == '':\n",
    "            del selectedWords[-1]\n",
    "    wordVecMat = np.array( map( lambda x : wVecMat[ revDict[x] ], filter( lambda x : x in selectedWords, wordVocab ) ) )\n",
    "    if flag != 0:\n",
    "        return wordVecMat, wordVocab\n",
    "    plotTSNEProjection(wordVecMat, selectedWords, color, legend)"
   ]
  },
  {
   "cell_type": "code",
   "execution_count": 5,
   "metadata": {
    "collapsed": false
   },
   "outputs": [],
   "source": [
    "def plotTSNEProjection(wordVectors, wordVocab, color='red', legend=None):\n",
    "    tsne = TSNE(n_components=2)\n",
    "    y_pred = tsne.fit_transform(wordVectors)\n",
    "\n",
    "    if legend != None:\n",
    "        handle = plt.scatter(y_pred[:, 0], y_pred[:, 1], color=color, label=legend)\n",
    "    else:\n",
    "        handle = plt.scatter(y_pred[:, 0], y_pred[:, 1], color=color)\n",
    "    \n",
    "    for label, x, y in zip(wordVocab, y_pred[:, 0], y_pred[:, 1]):\n",
    "            plt.annotate(label, xy=(x, y), xytext=(0, 0), textcoords='offset points')\n",
    "    \n",
    "    if legend != None:\n",
    "        plt.legend(handles=[handle])\n",
    "    \n",
    "    plt.show()"
   ]
  },
  {
   "cell_type": "code",
   "execution_count": 6,
   "metadata": {
    "collapsed": true
   },
   "outputs": [],
   "source": [
    "def plotTSNEMultiple(wv1, wv2, wv3, wv4, wordVocab, color1='red', color2='green', color3='blue', color4='cyan'):\n",
    "    tsne = TSNE(n_components=2)    \n",
    "    y1 = tsne.fit_transform(wv1)\n",
    "    tsne = TSNE(n_components=2)\n",
    "    y2 = tsne.fit_transform(wv2)\n",
    "    tsne = TSNE(n_components=2)\n",
    "    y3 = tsne.fit_transform(wv3)\n",
    "    tsne = TSNE(n_components=2)\n",
    "    y4 = tsne.fit_transform(wv4)\n",
    "       \n",
    "    manual_svd = plt.scatter(y1[:, 0], y1[:, 1], color=color1, label=\"Manual SVD\")\n",
    "    for label, x, y in zip(wordVocab, y1[:, 0], y1[:, 1]):\n",
    "            plt.annotate(label, xy=(x, y), xytext=(0, 0), textcoords='offset points')\n",
    "    lib_svd = plt.scatter(y2[:, 0], y2[:, 1], color=color2, label=\"Library SVD\")\n",
    "    for label, x, y in zip(wordVocab, y2[:, 0], y2[:, 1]):\n",
    "            plt.annotate(label, xy=(x, y), xytext=(0, 0), textcoords='offset points')\n",
    "    nplm = plt.scatter(y3[:, 0], y3[:, 1], color=color3, label=\"NPLM\")\n",
    "    for label, x, y in zip(wordVocab, y3[:, 0], y3[:, 1]):\n",
    "            plt.annotate(label, xy=(x, y), xytext=(0, 0), textcoords='offset points')\n",
    "    cbow = plt.scatter(y4[:, 0], y4[:, 1], color=color4, label=\"CBOW\")\n",
    "    for label, x, y in zip(wordVocab, y4[:, 0], y4[:, 1]):\n",
    "            plt.annotate(label, xy=(x, y), xytext=(0, 0), textcoords='offset points')\n",
    "    plt.legend(handles=[manual_svd, lib_svd, nplm, cbow])\n",
    "    plt.show()"
   ]
  },
  {
   "cell_type": "code",
   "execution_count": 7,
   "metadata": {
    "collapsed": false
   },
   "outputs": [],
   "source": [
    "def plotAllVectors(wordFile):\n",
    "    tsnePlotPkl(\"word_vec_map_manual.pkl\", wordFile, color='red', legend=\"Manual SVD\")\n",
    "    tsnePlotPkl(\"word_vec_map.pkl\", wordFile, color='green', legend=\"Library SVD\")\n",
    "    tsnePlotDualPkl(\"embeddingMatrix.pkl\", \"topKWords.pkl\", wordFile, color='blue', legend=\"NPLM\")\n",
    "    tsnePlotPkl(\"cbow_embedding.pkl\", wordFile, color='cyan', legend=\"CBOW\")"
   ]
  },
  {
   "cell_type": "code",
   "execution_count": 8,
   "metadata": {
    "collapsed": true
   },
   "outputs": [],
   "source": [
    "def plotAll(wordFile):\n",
    "    wv1, wordVocab = tsnePlotPkl(\"word_vec_map_manual.pkl\", wordFile, flag=1)\n",
    "    wv2, _ = tsnePlotPkl(\"word_vec_map.pkl\", wordFile, flag=1)\n",
    "    wv3, _ = tsnePlotDualPkl(\"embeddingMatrix.pkl\", \"topKWords.pkl\", wordFile, flag=1)\n",
    "    wv4, _ = tsnePlotPkl(\"cbow_embedding.pkl\", wordFile, flag=1)\n",
    "    plotTSNEMultiple(wv1, wv2, wv3, wv4, wordVocab)"
   ]
  },
  {
   "cell_type": "code",
   "execution_count": 9,
   "metadata": {
    "collapsed": false
   },
   "outputs": [],
   "source": [
    "def generatePlots():\n",
    "    plotAllVectors(\"tsne_words.txt\")\n",
    "\n",
    "    plotAllVectors(\"tsne_countries.txt\")\n",
    "    plotAll(\"tsne_countries.txt\")\n",
    "\n",
    "    plotAllVectors(\"tsne_numbers.txt\")\n",
    "    plotAll(\"tsne_numbers.txt\")\n",
    "\n",
    "    plotAllVectors(\"tsne_opposites.txt\")\n",
    "    plotAll(\"tsne_opposites.txt\")\n",
    "\n",
    "    plotAllVectors(\"tsne_synonyms.txt\")\n",
    "\n",
    "    tsnePlotPkl(\"word_vec_map_manual.pkl\", \"tsne_synonyms.txt\", color='red', legend=\"Manual SVD\")"
   ]
  },
  {
   "cell_type": "code",
   "execution_count": 10,
   "metadata": {
    "collapsed": true
   },
   "outputs": [],
   "source": [
    "plotAll(\"tsne_synonyms.txt\")"
   ]
  },
  {
   "cell_type": "code",
   "execution_count": null,
   "metadata": {
    "collapsed": true
   },
   "outputs": [],
   "source": [
    "if __name__ == \"__main__\":\n",
    "    generateSortedVocab()\n",
    "    generatePlots()"
   ]
  }
 ],
 "metadata": {
  "kernelspec": {
   "display_name": "Python 2",
   "language": "python",
   "name": "python2"
  },
  "language_info": {
   "codemirror_mode": {
    "name": "ipython",
    "version": 2
   },
   "file_extension": ".py",
   "mimetype": "text/x-python",
   "name": "python",
   "nbconvert_exporter": "python",
   "pygments_lexer": "ipython2",
   "version": "2.7.12"
  }
 },
 "nbformat": 4,
 "nbformat_minor": 0
}
